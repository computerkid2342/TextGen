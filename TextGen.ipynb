{
  "nbformat": 4,
  "nbformat_minor": 0,
  "metadata": {
    "colab": {
      "provenance": [],
      "authorship_tag": "ABX9TyML2UntH08yQtFBJI/Lqvzj"
    },
    "kernelspec": {
      "name": "python3",
      "display_name": "Python 3"
    },
    "language_info": {
      "name": "python"
    }
  },
  "cells": [
    {
      "cell_type": "code",
      "execution_count": null,
      "metadata": {
        "id": "Tcm-u4u9VysV"
      },
      "outputs": [],
      "source": [
        "import random\n",
        "import pickle\n",
        "import numpy as np\n",
        "import pandas as pd\n",
        "from nltk.tokenize import RegexpTokenizer\n",
        "\n",
        "from tensorflow.keras.models import Sequential, load_model\n",
        "from tensorflow.keras.layers import LSTM, Dense, Activation\n",
        "from tensorflow.keras.optimizers import RMSprop"
      ]
    },
    {
      "cell_type": "code",
      "source": [
        "text_df = pd.read_csv(\"/content/fake_or_real_news.csv\")"
      ],
      "metadata": {
        "id": "gkeTRum4XBJj"
      },
      "execution_count": null,
      "outputs": []
    },
    {
      "cell_type": "code",
      "source": [
        "text = list(text_df.text.values)\n",
        "joined_text= \" \".join(text)"
      ],
      "metadata": {
        "id": "zklUgVONXHIq"
      },
      "execution_count": null,
      "outputs": []
    },
    {
      "cell_type": "code",
      "source": [
        "partial_text = joined_text[:100000]"
      ],
      "metadata": {
        "id": "t3KDMpjaZZc3"
      },
      "execution_count": null,
      "outputs": []
    },
    {
      "cell_type": "code",
      "source": [
        "tokenizer = RegexpTokenizer(r\"\\w+\")\n",
        "tokens = tokenizer.tokenize(partial_text.lower())"
      ],
      "metadata": {
        "id": "XHY3Yw2VZc2s"
      },
      "execution_count": null,
      "outputs": []
    },
    {
      "cell_type": "code",
      "source": [
        "unique_tokens = np.unique(tokens)\n",
        "unique_token_index = {token: idx for idx, token in enumerate(unique_tokens)}"
      ],
      "metadata": {
        "id": "qbCC6QWWZ61q"
      },
      "execution_count": null,
      "outputs": []
    },
    {
      "cell_type": "code",
      "source": [
        "n_words = 10\n",
        "input_words =[]\n",
        "next_words =[]\n",
        "\n",
        "for i in range(len(tokens) - n_words):\n",
        "  input_words.append(tokens[i:i + n_words])\n",
        "  next_words.append(tokens[i + n_words])"
      ],
      "metadata": {
        "id": "M1j9r3vmabMy"
      },
      "execution_count": null,
      "outputs": []
    },
    {
      "cell_type": "code",
      "source": [
        "X = np.zeros((len(input_words), n_words, len(unique_tokens)), dtype=bool)\n",
        "y = np.zeros((len(next_words), len(unique_tokens)), dtype=bool)"
      ],
      "metadata": {
        "id": "exFZLQQNbyu1"
      },
      "execution_count": null,
      "outputs": []
    },
    {
      "cell_type": "code",
      "source": [
        "for i, words in enumerate(input_words):\n",
        "  for j, word in enumerate(words):\n",
        "    X[i, j, unique_token_index[word]] = 1\n",
        "  y[i, unique_token_index[next_words[i]]] = 1\n"
      ],
      "metadata": {
        "id": "s3CHDwlscMdP"
      },
      "execution_count": null,
      "outputs": []
    },
    {
      "cell_type": "code",
      "source": [
        "model = Sequential()\n",
        "model.add(LSTM(128, input_shape=(n_words, len(unique_tokens)), return_sequences=True))\n",
        "model.add(LSTM(128))\n",
        "model.add(Dense(len(unique_tokens)))\n",
        "model.add(Activation(\"softmax\"))\n"
      ],
      "metadata": {
        "colab": {
          "base_uri": "https://localhost:8080/"
        },
        "id": "0LUZxnb8c1zA",
        "outputId": "37bb5cc4-caeb-4bec-d0c1-56532be83a97"
      },
      "execution_count": null,
      "outputs": [
        {
          "output_type": "stream",
          "name": "stderr",
          "text": [
            "/usr/local/lib/python3.10/dist-packages/keras/src/layers/rnn/rnn.py:204: UserWarning: Do not pass an `input_shape`/`input_dim` argument to a layer. When using Sequential models, prefer using an `Input(shape)` object as the first layer in the model instead.\n",
            "  super().__init__(**kwargs)\n"
          ]
        }
      ]
    },
    {
      "cell_type": "code",
      "source": [
        "model.compile(loss=\"categorical_crossentropy\", optimizer=RMSprop(learning_rate=0.01), metrics=[\"accuracy\"])\n",
        "model.fit(X, y, batch_size=128, epochs = 25, shuffle = True)"
      ],
      "metadata": {
        "colab": {
          "base_uri": "https://localhost:8080/"
        },
        "id": "53pwfa8Idkrd",
        "outputId": "06592596-d4d4-4e32-f4bb-ff2848c4c48b"
      },
      "execution_count": null,
      "outputs": [
        {
          "output_type": "stream",
          "name": "stdout",
          "text": [
            "Epoch 1/25\n",
            "\u001b[1m135/135\u001b[0m \u001b[32m━━━━━━━━━━━━━━━━━━━━\u001b[0m\u001b[37m\u001b[0m \u001b[1m47s\u001b[0m 326ms/step - accuracy: 0.2026 - loss: 4.6143\n",
            "Epoch 2/25\n",
            "\u001b[1m135/135\u001b[0m \u001b[32m━━━━━━━━━━━━━━━━━━━━\u001b[0m\u001b[37m\u001b[0m \u001b[1m82s\u001b[0m 324ms/step - accuracy: 0.2626 - loss: 4.1497\n",
            "Epoch 3/25\n",
            "\u001b[1m135/135\u001b[0m \u001b[32m━━━━━━━━━━━━━━━━━━━━\u001b[0m\u001b[37m\u001b[0m \u001b[1m83s\u001b[0m 332ms/step - accuracy: 0.2979 - loss: 3.8779\n",
            "Epoch 4/25\n",
            "\u001b[1m135/135\u001b[0m \u001b[32m━━━━━━━━━━━━━━━━━━━━\u001b[0m\u001b[37m\u001b[0m \u001b[1m43s\u001b[0m 322ms/step - accuracy: 0.3440 - loss: 3.5635\n",
            "Epoch 5/25\n",
            "\u001b[1m135/135\u001b[0m \u001b[32m━━━━━━━━━━━━━━━━━━━━\u001b[0m\u001b[37m\u001b[0m \u001b[1m81s\u001b[0m 313ms/step - accuracy: 0.3841 - loss: 3.2771\n",
            "Epoch 6/25\n",
            "\u001b[1m135/135\u001b[0m \u001b[32m━━━━━━━━━━━━━━━━━━━━\u001b[0m\u001b[37m\u001b[0m \u001b[1m85s\u001b[0m 336ms/step - accuracy: 0.4383 - loss: 2.9814\n",
            "Epoch 7/25\n",
            "\u001b[1m135/135\u001b[0m \u001b[32m━━━━━━━━━━━━━━━━━━━━\u001b[0m\u001b[37m\u001b[0m \u001b[1m43s\u001b[0m 321ms/step - accuracy: 0.4858 - loss: 2.6971\n",
            "Epoch 8/25\n",
            "\u001b[1m135/135\u001b[0m \u001b[32m━━━━━━━━━━━━━━━━━━━━\u001b[0m\u001b[37m\u001b[0m \u001b[1m42s\u001b[0m 312ms/step - accuracy: 0.5371 - loss: 2.4457\n",
            "Epoch 9/25\n",
            "\u001b[1m135/135\u001b[0m \u001b[32m━━━━━━━━━━━━━━━━━━━━\u001b[0m\u001b[37m\u001b[0m \u001b[1m43s\u001b[0m 316ms/step - accuracy: 0.5936 - loss: 2.1679\n",
            "Epoch 10/25\n",
            "\u001b[1m135/135\u001b[0m \u001b[32m━━━━━━━━━━━━━━━━━━━━\u001b[0m\u001b[37m\u001b[0m \u001b[1m81s\u001b[0m 312ms/step - accuracy: 0.6394 - loss: 1.9733\n",
            "Epoch 11/25\n",
            "\u001b[1m135/135\u001b[0m \u001b[32m━━━━━━━━━━━━━━━━━━━━\u001b[0m\u001b[37m\u001b[0m \u001b[1m82s\u001b[0m 316ms/step - accuracy: 0.6824 - loss: 1.7748\n",
            "Epoch 12/25\n",
            "\u001b[1m135/135\u001b[0m \u001b[32m━━━━━━━━━━━━━━━━━━━━\u001b[0m\u001b[37m\u001b[0m \u001b[1m84s\u001b[0m 330ms/step - accuracy: 0.7271 - loss: 1.5814\n",
            "Epoch 13/25\n",
            "\u001b[1m135/135\u001b[0m \u001b[32m━━━━━━━━━━━━━━━━━━━━\u001b[0m\u001b[37m\u001b[0m \u001b[1m80s\u001b[0m 318ms/step - accuracy: 0.7718 - loss: 1.3988\n",
            "Epoch 14/25\n",
            "\u001b[1m135/135\u001b[0m \u001b[32m━━━━━━━━━━━━━━━━━━━━\u001b[0m\u001b[37m\u001b[0m \u001b[1m84s\u001b[0m 333ms/step - accuracy: 0.8139 - loss: 1.2138\n",
            "Epoch 15/25\n",
            "\u001b[1m135/135\u001b[0m \u001b[32m━━━━━━━━━━━━━━━━━━━━\u001b[0m\u001b[37m\u001b[0m \u001b[1m80s\u001b[0m 316ms/step - accuracy: 0.8506 - loss: 1.0662\n",
            "Epoch 16/25\n",
            "\u001b[1m135/135\u001b[0m \u001b[32m━━━━━━━━━━━━━━━━━━━━\u001b[0m\u001b[37m\u001b[0m \u001b[1m43s\u001b[0m 315ms/step - accuracy: 0.8860 - loss: 0.9108\n",
            "Epoch 17/25\n",
            "\u001b[1m135/135\u001b[0m \u001b[32m━━━━━━━━━━━━━━━━━━━━\u001b[0m\u001b[37m\u001b[0m \u001b[1m90s\u001b[0m 377ms/step - accuracy: 0.9041 - loss: 0.8188\n",
            "Epoch 18/25\n",
            "\u001b[1m135/135\u001b[0m \u001b[32m━━━━━━━━━━━━━━━━━━━━\u001b[0m\u001b[37m\u001b[0m \u001b[1m50s\u001b[0m 370ms/step - accuracy: 0.9251 - loss: 0.6875\n",
            "Epoch 19/25\n",
            "\u001b[1m135/135\u001b[0m \u001b[32m━━━━━━━━━━━━━━━━━━━━\u001b[0m\u001b[37m\u001b[0m \u001b[1m82s\u001b[0m 372ms/step - accuracy: 0.9392 - loss: 0.5982\n",
            "Epoch 20/25\n",
            "\u001b[1m135/135\u001b[0m \u001b[32m━━━━━━━━━━━━━━━━━━━━\u001b[0m\u001b[37m\u001b[0m \u001b[1m82s\u001b[0m 372ms/step - accuracy: 0.9536 - loss: 0.5087\n",
            "Epoch 21/25\n",
            "\u001b[1m135/135\u001b[0m \u001b[32m━━━━━━━━━━━━━━━━━━━━\u001b[0m\u001b[37m\u001b[0m \u001b[1m81s\u001b[0m 367ms/step - accuracy: 0.9604 - loss: 0.4341\n",
            "Epoch 22/25\n",
            "\u001b[1m135/135\u001b[0m \u001b[32m━━━━━━━━━━━━━━━━━━━━\u001b[0m\u001b[37m\u001b[0m \u001b[1m85s\u001b[0m 390ms/step - accuracy: 0.9715 - loss: 0.3623\n",
            "Epoch 23/25\n",
            "\u001b[1m135/135\u001b[0m \u001b[32m━━━━━━━━━━━━━━━━━━━━\u001b[0m\u001b[37m\u001b[0m \u001b[1m51s\u001b[0m 378ms/step - accuracy: 0.9779 - loss: 0.3000\n",
            "Epoch 24/25\n",
            "\u001b[1m135/135\u001b[0m \u001b[32m━━━━━━━━━━━━━━━━━━━━\u001b[0m\u001b[37m\u001b[0m \u001b[1m81s\u001b[0m 371ms/step - accuracy: 0.9787 - loss: 0.2600\n",
            "Epoch 25/25\n",
            "\u001b[1m135/135\u001b[0m \u001b[32m━━━━━━━━━━━━━━━━━━━━\u001b[0m\u001b[37m\u001b[0m \u001b[1m82s\u001b[0m 371ms/step - accuracy: 0.9809 - loss: 0.2247\n"
          ]
        },
        {
          "output_type": "execute_result",
          "data": {
            "text/plain": [
              "<keras.src.callbacks.history.History at 0x7a381a373b80>"
            ]
          },
          "metadata": {},
          "execution_count": 28
        }
      ]
    },
    {
      "cell_type": "code",
      "source": [
        "model.save(\"mymodel.h5\")\n",
        "model = load_model(\"mymodel.h5\")\n"
      ],
      "metadata": {
        "colab": {
          "base_uri": "https://localhost:8080/"
        },
        "id": "d76F9KE0d6xv",
        "outputId": "b95e5111-dd80-4a29-c8ca-511bdb55cb38"
      },
      "execution_count": null,
      "outputs": [
        {
          "output_type": "stream",
          "name": "stderr",
          "text": [
            "WARNING:absl:You are saving your model as an HDF5 file via `model.save()` or `keras.saving.save_model(model)`. This file format is considered legacy. We recommend using instead the native Keras format, e.g. `model.save('my_model.keras')` or `keras.saving.save_model(model, 'my_model.keras')`. \n",
            "WARNING:absl:Compiled the loaded model, but the compiled metrics have yet to be built. `model.compile_metrics` will be empty until you train or evaluate the model.\n"
          ]
        }
      ]
    },
    {
      "cell_type": "code",
      "source": [
        "def predict_next_word(input_text, n_best):\n",
        "  input_text = input_text.lower()\n",
        "  X = np.zeros((1, n_words, len(unique_tokens)))\n",
        "  for i, word in enumerate(input_text.split()):\n",
        "    X[0, i, unique_token_index[word]] = 1\n",
        "  predictions = model.predict(X)[0]\n",
        "  return np.argpartition(predictions, n_best)[n_best:]"
      ],
      "metadata": {
        "id": "WvdTz3-cd_--"
      },
      "execution_count": null,
      "outputs": []
    },
    {
      "cell_type": "code",
      "source": [
        "possible = predict_next_word(\"He will have to look into this thing and he\", 5)\n"
      ],
      "metadata": {
        "colab": {
          "base_uri": "https://localhost:8080/"
        },
        "id": "-lCwhVB1egdM",
        "outputId": "4b202945-3d29-41ba-e044-a3833f136db3"
      },
      "execution_count": null,
      "outputs": [
        {
          "output_type": "stream",
          "name": "stdout",
          "text": [
            "\u001b[1m1/1\u001b[0m \u001b[32m━━━━━━━━━━━━━━━━━━━━\u001b[0m\u001b[37m\u001b[0m \u001b[1m1s\u001b[0m 557ms/step\n"
          ]
        }
      ]
    },
    {
      "cell_type": "code",
      "source": [
        "print([unique_tokens[idx] for idx in possible])\n"
      ],
      "metadata": {
        "colab": {
          "base_uri": "https://localhost:8080/"
        },
        "id": "DRLjR5KSelm3",
        "outputId": "0655e96a-16f7-440a-e85e-ef2cf9e30a94"
      },
      "execution_count": null,
      "outputs": [
        {
          "output_type": "stream",
          "name": "stdout",
          "text": [
            "['female', 'us', 'have', 'military', 'senate', 'republican', 'her', 'american', 'president', 'need', 'all', 'fbi', 'men', 'first', 'new', 'an', 'time', 'delegates', 'not', 'nuclear', 'veterans', 'they', 'my', 'there', 'their', 'only', 'or', 'democratic', 'two', 'his', 'other', 'take', 'up', 'congress', 'a', 'months', 'be', 'va', 'election', 'people', 'its', 'both', 'republicans', 'deal', 'do', 'obama', 'sanctions', 'power', 'life', '2016', 'woman', 'front', 'problems', 'program', 'public', 'rate', 'like', 're', 'representation', 'candidate', 'later', 'political', 'research', 'just', 'rival', 'plan', 'borough', 'security', 'percent', 'long', 'what', 'it', 'see', 'sen', 'gender', 'come', 'senator', 'iraq', 'iran', 'being', 'interview', 'party', 'so', 'energy', 'paris', 'some', 'enough', 'ayotte', 'state', 'states', 'if', 'i', 'support', 'make', 'supporters', 'world', 'hour', 'many', 'team', 'would', 'that', 'democrats', 'one', 'them', 'then', 'foreign', 'convention', 'any', 'of', 'this', 'those', 'three', 'help', 'want', 'me', 'country', 'times', 'americans', 'years', 'he', 'top', 'media', 'also', 'member', 'york', 'cruz', 'had', 'muslim', 'agreement', 'u', 'ground', 'act', '11', 'uranium', 'good', 'days', 'gop', '10', 'administration', 'very', 'veteran', 'deadline', 'governor', 'video', 'grade', 've', 'values', 'farm', 'valley', 'government', 'family', 'using', 'activities', 'action', 'advantage', 'upset', 'graphs', 'visit', 'affairs', 'unscathed', 'great', 'unprecedented', 'unknown', 'united', 'unfavorable', 'after', 'fairly', 'faint', 'undermine', 'underground', 'age', 'visits', 'unacceptably', 'uk', 'ugly', 'voice', 'vote', 'agreements', 'fate', 'aide', 'twist', 'factors', 'turnout', 'facetime', 'face', 'turn', 'try', 'votes', 'truths', 'truth', 'hampshire', 'gone', 'troops', 'hand', 'hard', 'tried', 'harder', 'favor', 'treated', 'transport', 'allies', 'express', 'harry', 'allowing', 'allows', 'has', 'almost', 'hate', 'along', 'town', 'wait', 'fear', 'tormented', 'waive', 'am', 'having', 'according', 'head', 'health', 'america', 'featured', 'go', 'heard', 'among', 'heart', 'wake', 'walsh', 'held', 'glenn', 'tim', 'tight', 'wanting', 'and', 'threshold', 'wanton', 'angus', 'though', 'war', 'was', 'thirds', 'think', 'thing', 'thieves', 'henningsen', 'give', 'executives', 'executive', 'feeling', 'watch', 'anyone', 'girlfriend', 'higher', 'way', 'themselves', 'ways', 'able', 'ablaze', 'highest', 'appearance', 'we', 'thanks', 'than', 'hillary', 'texas', 'testimonials', 'tenure', 'getting', 'approach', 'examples', 'tells', 'approval', 'approved', 'approving', 'example', 'arabia', 'tehran', 'history', 'ted', 'get', 'teaching', 'arizona', 'teachers', 'armed', 'army', 'home', 'evidence', 'arrangement', 'everyone', 'talks', 'horn', 'horror', 'every', 'taken', 'ever', 'hospitals', 'event', 'abedin', 'as', 'ascension', 'tailored', 'ask', 'asked', 'table', 'hosted', 'system', 'assault', 'weapons', 'wearing', 'swers', 'how', 'surrogates', 'surreal', 'associated', 'associates', 'establishment', 'surprising', 'hurt', 'supports', 'attack', 'supporting', 'website', 'attacks', 'supported', 'fellow', 'hypocrisy', 'sunday', '98', 'success', 'study', 'students', 'idea', 'ideas', 'equal', 'george', 'stretch', 'strategy', 'image', 'august', 'entire', 'important', 'still', 'sticker', 'steps', 'in', 'staying', '94', 'staten', 'inaccurate', 'week', 'start', 'stark', 'stand', 'including', 'incredible', 'stage', 'spots', 'sponsor', 'indeed', 'ayatollah', '9', '8pm', 'enormous', 'speaker', 'sowed', 'southern', 'bad', 'sounds', 'sounding', 'ballot', 'soul', 'india', 'influence', 'information', 'son', '80', 'inherently', 'barriers', 'base', 'soldier', 'basis', 'weekend', 'batch', 'bathroom', 'weeks', 'enemy', 'weigh', 'intelligence', 'smoke', 'intense', 'ending', 'interesting', 'because', 'end', 'becomes', 'internet', 'well', 'six', 'been', 'investigation', 'sisterhood', 'since', 'simple', 'similar', 'side', 'show', 'shoulder', 'empowering', 'iowa', 'should', '64', '60', 'she', '6', 'iraqi', 'seven', 'set', 'embassy', 'serving', 'irrevocably', 'bernie', 'served', 'serious', 'best', 'better', 'between', 'september', 'emails', 'is', 'bigger', 'biggest', 'islam', 'senior', 'senators', 'bill', 'general', 'western', 'gave', 'islamic', '500', 'island', 'bizarre', 'flag', 'blame', 'sector', 'secretary', 'blast', 'islanders', 'isn', 'issue', 'second', 'seats', 'issues', '50', 'boardroom', 'sea', 'boards', 'when', 'electing', 'bob', 'school', 'elected', 'scandals', 'says', 'elect', 'either', 'savage', 'saudi', '42', 'sanders', 'efforts', 'gap', 'whether', 'ize', 'jeopardy', '4', 'jersey', 'same', 'boyfriend', 'salha', 'economy', 'john', 'running', 'runners', 'run', 'joined', 'breaking', 'room', 'roman', 'joint', 'jones', 'june', 'breitbart', 'brew', 'which', 'risk', 'while', 'rights', 'kaine', 'review', 'eager', 'britain', 'british', 'revelation', 'broadcasting', 'broke', 'revealing', 'each', 'brunch', 'keep', 'return', 'build', 'keeping', 'results', 'dynamic', 'kerry', 'kessler', 'response', 'bureau', 'respective', 'kgb', 'bush', 'business', 'dubbed', 'but', 'kind', 'by', 'kindertransports', 'residual', 'call', 'called', '31', 'rescue', 'droves', 'white', 'fight', 'campaign', 'kindness', 'can', 'drew', '3', 'know', 'dozen', 'who', 'labeling', 'religious', 'lack', 'related', 'larsen', 'door', 'care', 'last', '000', 'recruitment', 'donald', 'latest', 'record', 'recently', 'recent', 'receive', 'reasons', 'castro', 'reason', 'law', 'lawmakers', 'laws', 'lay', 'lead', 'reactor', 'doctors', 'reach', 'why', 'center', 'doctor', 'raul', 'ratings', 'centrifuges', 'widespread', 'future', 'ceremonial', 'leader', 'certain', 'certainly', 'chair', 'rapids', 'dna', 'division', 'r', 'quickly', 'question', 'leaders', 'chance', 'leadership', 'leading', 'least', 'pursuit', 'pure', 'leave', 'win', 'lectured', 'protect', 'proposed', 'proposals', 'districts', 'propaganda', 'district', 'led', 'left', 'chart', 'legislation', 'dispute', 'winds', 'process', 'legislators', 'further', 'problem', 'legislatures', 'cherry', 'legitimate', 'disparity', 'less', 'childhood', 'privatization', 'children', 'private', 'discussions', 'lesson', 'china', 'letter', 'prime', 'liberal', 'primary', 'pride', 'disapproving', 'chris', 'preventing', 'press', 'presidential', 'without', 'present', 'disapproval', 'fundraiser', 'lifted', 'precedent', 'practically', 'disabled', 'lifting', 'director', 'city', 'fundamental', 'freedom', 'claim', 'claimed', 'potential', 'claims', 'likely', 'possible', 'positioned', 'limited', 'posed', 'population', 'final', 'poll', 'classroom', 'politics', 'direct', 'listeners', 'word', 'policy', 'clinton', 'policies', 'clintonworld', 'little', 'differently', 'points', 'point', 'difference', 'pm', 'playing', 'players', 'cnn', 'co', 'play', 'coast', 'll', 'plane', 'work', 'place', 'did', 'picture', 'colleagues', 'pew', 'perspective', 'lobsters', 'personal', 'colorado', 'development', 'local', 'percentage', 'france', 'develop', 'working', 'combative', '2008', 'framework', 'longer', 'comes', 'details', 'pay', 'patrick', 'path', 'commander', 'comment', 'comments', 'past', 'looked', 'passage', 'commitments', 'committee', 'losing', 'workplace', 'common', 'parts', 'lost', 'partisanship', 'parties', '2004', 'lower', 'paranoid', 'panicked', 'complete', 'lynch', 'made', 'desert', 'maine', 'paging', 'compromise', 'mainstreamed', 'major', 'own', 'majority', 'depending', '2003', 'overcome', 'making', 'condos', 'man', 'outspoken', 'manhattan', 'confident', 'outcome', 'out', '2002', 'congressional', 'our', 'found', 'connections', 'march', 'conservative', '2000', '20', 'consistently', 'conspiracies', '2', 'forum', 'option', 'opposition', 'opposite', 'opinion', 'opening', 'content', 'open', 'fortune', 'democrat', 'masked', 'ones', 'form', 'matt', 'deliver', 'old', 'officials', 'control', 'official', 'matter', 'officers', '1992', 'may', '1990s', 'october', 'delegation', '1985', 'numerous', 'numbers', 'number', '1984', 'november', 'noting', 'corker', 'nothing', 'noted', 'corporate', 'wrong', 'northern', 'fire', 'delegate', 'mccain', 'could', 'non', 'force', 'nominee', 'nomination', 'defense', 'nobody', 'no', 'countless', 'meaningful', 'year', 'countrymen', 'means', 'newt', 'course', 'newspaper', 'newsletter', 'cover', '1960', 'measure', 'cowardice', 'following', 'meeting', 'negotiations', 'yes', 'young', '16', 'nearly', 'nazis', 'credibility', 'navy', 'nature', 'natural', 'nations', 'nationalist', 'national', 'nation', 'mention', 'name', 'nail', 'n', 'mentor', 'youngsters', 'crowd', 'michele', 'crucial', '13', 'muslims', 'cub', 'cuba', 'firsts', 'cultural', 'mightily', 'floor', 'music', 'currently', 'mind', 'decides', 'murdered', 'minister', 'd', 'mistake', 'much', 'decades', 'decade', 'damn', 'msnbc', 'ms', 'dangerous', 'mom', 'mr', 'mostly', 'most', 'mosque', 'darkest', 'data', 'five', 'date', 'zero', 'moment', 'day', '100', '1', 'money', 'polls', 'dead', 'daughter', 'mrs', 'moammar', 'mix', 'dec', 'dame', 'damaging', 'dad', 'december', 'minute', 'multiple', 'museum', 'mindedness', 'cuts', 'cunning', 'miles', 'musicians', 'michelle', 'crown', 'merely', 'myself', 'nate', 'creating', 'meme', 'deeper', 'negotiating', 'defamation', 'neil', 'network', 'networking', 'nine', 'nixon', 'counterpart', 'council', 'none', 'nonprofit', 'north', 'observe', 'offer', 'offices', 'olli', 'delivered', 'contrary', 'demagoguery', 'master', 'online', 'marshal', 'contested', 'ordeal', 'oriented', 'market', 'maria', 'others', 'otherwise', 'confidence', 'overall', 'condoleezza', 'overhaul', 'override', 'oversight', 'pac', 'pact', 'compliment', 'paid', 'palatable', 'm', 'pandering', 'lowest', 'parents', 'partners', 'committees', 'lose', 'passed', 'destroy', 'comey', 'peace', 'combined', 'logical', 'people4bernie', 'developer', 'columnist', 'permission', 'collegial', 'pieces', 'cobb', 'liz', 'living', 'closer', 'live', 'different', 'polarization', 'close', 'politicians', 'dimension', 'linking', 'linkedin', 'line', 'limits', 'clearly', 'poses', 'post', 'pounding', 'citizens', 'powerful', 'powers', 'predator', 'prejudiced', 'preposterous', 'previous', 'lie', 'liberty', 'chord', 'leverage', 'principles', 'let', 'chilly', 'lesser', 'prior', 'privatizing', 'leon', 'chief', 'chest', 'pro', 'checker', 'programs', 'legislative', 'charting', 'prominent', 'distinctive', 'promise', 'charges', 'proponent', 'provision', 'published', 'pushed', 'put', 'quality', 'championed', 'ramadan', 'ranked', 'rappers', 'rating', 'centers', 'reaching', 'realdonaldtrump', 'doesn', 'realities', 'realized', 'catholic', 'catch', 'recordings', 'recruiting', 'refused', 'register', 'reid', 'card', 'landmark', 'lady', 'relations', 'doubts', 'remaining', 'cannot', 'krugman', 'representative', 'draw', 'drawn', 'representatives', 'king', 'driven', 'campaigns', 'camel', 'resolution', 'resources', 'businesses', 'kid', 'khyouusrfs', 'burning', 'responsibility', 'bullies', 'dying', 'restaurant', 'retake', 'brunswick', 'reveal', 'revenge', 'right', 'justice', 'rise', 'breezy', 'judiciary', 'road', 'robbed', 'roving', 'sa', 'jobs', 'sacred', 'jewish', 'bottom', 'sanctioned', 'javad', 'educational', 'january', 'jane', 'boss', 'effort', 'boots', 'saturday', 'book', 'saying', 'schedule', 'schumer', 'science', 'board', 'season', 'blocks', 'seconds', 'bleeding', 'biting', 'selective', 'bigotry', 'email', 'sense', 'separate', 'server', 'embarrassment', 'beltway', 'irp', 'several', 'sexual', 'emergency', 'belief', 'emphasized', 'behind', 'behavior', 'before', 'enacted', 'intractable', 'skill', 'slippery', 'encouragement', 'slog', 'endearing', 'became', 'beautiful', 'interest', 'beating', 'endorsement', 'snap', 'ends', 'intangible', 'instructive', 'baylee', 'institute', 'societal', 'insistent', 'insisted', 'solving', 'inherent', 'infowars', 'barakat', 'song', 'indignation', 'sooner', 'specials', 'spent', 'independent', 'spheres', 'enriches', 'staggering', 'increasingly', 'staging', 'average', 'step', 'author', 'storied', 'implement', 'story', 'attracted', 'ideology', 'strong', 'stronghold', 'equipment', 'eric', 'ernst', 'stuck', 'suddenly', 'sununu', 'surge', 'humanitarian', 'associations', 'estimated', 'susan', 'syrian', 'assaulting', 'european', 'aspiring', 'even', 'host', 'articles', 'article', 'hospital', 'hospitable', 'art', 'arrives', 'talking', 'arrive', 'taunts', 'honor', 'tax', 'around', 'holder', 'are', 'tell', 'temporarily', 'tend', 'hinge', 'text', 'highlighted', 'thatcher', 'anyway', 'high', 'anymore', 'anticipation', 'theresa', 'answer', 'thursday', 'helmut', 'timeline', 'tip', 'expected', 'today', 'experience', 'hear', 'tonight', 'headed', 'amendment', 'ambassador', 'amazing', 'total', 'explosive', 'alone', 'hatch', 'trade', 'traditional', 'train', 'tricks', 'trip', 'harbor', 'hangzhou', 'troop', 'album', 'halls', 'alan', 'aircraft', 'gymnasium', 'gun', 'air', 'growth', 'facing', 'fact', 'aimed', 'facts', 'factual', 'growing', 'group', 'underfunding', 'afternoon', 'greetings', 'understand', 'greet', 'fall', 'green', 'unpredictable', 'updates', 'usual', 'version', 'governorship', 'victoria', 'violating', 'actually', 'violation', 'activist', 'voted', 'vowing', 'gold', 'accusing', 'favored', 'goes', 'w', 'waiting', 'access', 'accepts', 'academic', 'feehery', 'washington', 'aboutface', 'watchdog', 'ability', 'weapon', 'georgia', '9am', '95', '8', 'west', '52', 'westerners', 'where', 'futures', '30', 'wife', 'withdraw', '21', 'fundamentalists', 'fundamentalism', 'wondered', 'full', '2015', '2014', '2013', '2010', '2007', 'worse', '1999', 'wow', 'wrangled', 'writer', 'forces', 'yale', 'yeah', '19', 'florida', '15', 'yourselves', 'zach', 'zarif', 'flames', '0', 'flags', 'flailing', 'fix', 'flash', 'flat', 'flexible', 'floated', 'fit', 'fireworks', 'fluent', 'fly', 'focused', 'focuses', 'focusing', 'folks', 'follow', 'followed', 'firefighters', 'fondly', 'for', 'forbidding', 'fired', 'forced', 'forceful', 'finished', 'forcing', 'finger', 'forgotten', 'fine', 'formed', 'former', 'forour', 'forsaking', 'forth', 'finding', 'financial', 'fought', 'finally', 'foundation', 'foundational', 'founding', 'fox', 'frail', 'finalized', 'finalize', 'francois', 'frank', 'film', 'french', 'friend', 'friends', 'from', 'filling', 'fuel', 'fuelled', 'filled', 'fully', 'function', 'filibuster', 'figures', 'fundamentalist', 'figurehead', 'fundamentally', 'funded', 'funding', 'fundmentalists', 'figured', 'fundraisers', 'fundraising', 'figure', 'fighting', 'field', 'gadhafi', 'gagliarducci', 'gain', 'galactic', 'galacticconnection', 'game', 'gandhi', 'fewer', 'gasoline', 'gathered', 'gauntlet', 'few', 'geller', 'fest', 'fend', 'felt', 'georgetown', 'fell', 'german', 'germany', 'gerstein', 'gerster', 'feigned', 'feet', 'gingrich', 'girl', 'fees', 'feel', 'given', 'gives', 'giving', 'glamorizing', 'glance', 'glancing', 'federal', 'globe', 'glorifying', 'february', 'goal', 'goals', 'favorite', 'going', 'fathom', 'golda', 'father', 'fasts', 'goodness', 'google', 'faster', 'gopers', 'got', 'gotta', 'gov', 'governance', 'fashioned', 'far', 'governors', 'fanfare', 'grabbed', 'famous', 'grand', 'grandparents', 'granite', 'granting', 'families', 'grasp', 'grasped', 'familiar', 'greater', 'greatly', 'false', 'greenfield', 'faith', 'greeted', 'fair', 'grew', 'gridlock', 'griffin', 'gripped', 'failure', 'failed', 'fail', 'grown', 'facility', 'guard', 'guess', 'guest', 'guides', 'faced', 'gunfire', 'guns', 'gushes', 'gym', 'facebook', 'h', 'hacks', 'fabius', 'hall', 'hallmarks', 'f', 'halt', 'hammering', 'eyes', 'exultant', 'handed', 'handle', 'handling', 'extremism', 'happen', 'happened', 'happening', 'happens', 'happy', 'harassed', 'extensive', 'extends', 'hardball', 'expressed', 'harkened', 'exposing', 'hartley', 'exposed', 'hasn', 'hassan', 'expose', 'explosively', 'hates', 'hating', 'hatred', 'exploitation', 'explanations', 'explanation', 'explained', 'experts', 'headline', 'heads', 'experiencing', 'healthcare', 'experiences', 'expects', 'hearings', 'expectations', 'heinonen', 'expect', 'hell', 'exists', 'existence', 'helped', 'helps', 'exist', 'executed', 'here', 'herself', 'hew', 'excuses', 'exclusive', 'excluding', 'excluded', 'highly', 'hijacked', 'hiker', 'hill', 'excerpts', 'him', 'himself', 'exceptions', 'except', 'historic', 'examined', 'hit', 'hold', 'exactly', 'holding', 'hollande', 'holocaust', 'exact', 'honest', 'everything', 'honorably', 'honoring', 'hooded', 'hoover', 'hope', 'hopefully', 'hopes', 'hoping', 'everyman', 'horrid', 'horrified', 'everybody', 'eventually', 'eventual', 'events', 'evening', 'evacuate', 'hosting', 'ethnicity', 'hours', 'ethnic', 'houses', 'et', 'howard', 'however', 'https', 'hubris', 'huge', 'huma', 'essentially', 'humanity', 'humor', 'essences', 'husband', 'hyped', 'esquire', 'especially', 'id', 'escape', 'equality', 'identify', 'ideological', 'episode', 'envisaged', 'iftar', 'ignored', 'ii', 'illegal', 'illegality', 'entry', 'images', 'imagine', 'imbued', 'immediately', 'immense', 'immigrant', 'immigrants', 'impact', 'implant', 'entirely', 'implication', 'importance', 'enthusiastically', 'impropriety', 'improve', 'improved', 'enthusiasm', 'entering', 'inc', 'incendiary', 'incentive', 'incident', 'inclined', 'include', 'included', 'entered', 'inclusive', 'increase', 'increasing', 'ensure', 'enriching', 'enriched', 'enrich', 'independents', 'enlistment', 'indian', 'indicate', 'enlisted', 'individual', 'industry', 'enlai', 'enjoys', 'enjoy', 'england', 'engine', 'inherited', 'initiative', 'inner', 'insane', 'inside', 'insist', 'engage', 'enforcement', 'insisting', 'insists', 'inspections', 'inspiration', 'inspired', 'instant', 'instead', 'energize', 'enemies', 'instrumental', 'insulted', 'insults', 'endured', 'endorsements', 'endorsed', 'interactions', 'endless', 'ended', 'international', 'internationally', 'encouraged', 'interpret', 'interrupted', 'intervention', 'encounters', 'interviews', 'intimidation', 'into', 'intolerant', 'encountered', 'intrepid', 'introduced', 'introduces', 'introduction', 'intruder', 'intruders', 'intrusive', 'invading', 'invasion', 'en', 'investigators', 'investment', 'invite', 'invited', 'involved', 'empire', 'emily', 'iranian', 'iranians', 'emerged', 'embrace', 'ironically', 'embodiment', 'embarrassing', 'irritating', 'emailing', 'elsewhere', 'else', 'islamophobia', 'elizabeth', 'eligible', 'eliciting', 'isotopes', 'israel', 'israeli', 'elementary', 'elects', 'electoral', 'eight', 'itself', 'effectively', 'j', 'james', 'effect', 'edward', 'education', 'jeanne', 'jeb', 'jennifer', 'editorial', 'edition', 'edgar', 'jews', 'jibes', 'jill', 'job', 'economies', 'jockey', 'joe', 'economic', 'join', 'echoes', 'joining', 'eastern', 'joke', 'east', 'joni', 'journalism', 'joy', 'jr', 'easily', 'july', 'jumped', 'early', 'junior', 'earliest', 'earlier', 'justified', 'eagly', 'kasich', 'kaydee', 'kaydeeking', 'kazakhstan', 'e', 'dynasties', 'kelly', 'kennedy', 'during', 'duplication', 'key', 'duplicated', 'khamenei', 'khomeini', 'dug', 'kick', 'ducked', 'kids', 'kill', 'killed', 'killer', 'killing', 'drugs', 'drugging', 'dropped', 'drive', 'kneel', 'knees', 'knew', 'knighted', 'knock', 'drafting', 'knowing', 'known', 'knows', 'kohl', 'kron', 'draft', 'kuhn', 'kuster', 'label', 'down', 'labor', 'doubt', 'doubled', 'laid', 'lambaste', 'lambasting', 'land', 'landed', 'double', 'language', 'large', 'largest', 'dosed', 'lash', 'donned', 'late', 'done', 'don', 'latitude', 'lauer', 'laurent', 'dollars', 'doj', 'doing', 'dog', 'lays', 'does', 'dnc', 'dividends', 'divided', 'divestment', 'leads', 'league', 'leaning', 'learn', 'learned', 'diversity', 'ditch', 'leaves', 'leaving', 'disturbed', 'distributed', 'distinct', 'leftward', 'legislating', 'distance', 'dissatisfaction', 'disposed', 'legislature', 'display', 'legitimacy', 'dispel', 'length', 'dismissed', 'dismantling', 'discussing', 'discussed', 'discuss', 'discrepancies', 'letting', 'level', 'discovered', 'lgbtq', 'discover', 'discounts', 'library', 'libya', 'lid', 'disconnect', 'lies', 'disagreements', 'lift', 'disagree', 'disability', 'light', 'directly', 'directive', 'limit', 'direction', 'diplomatic', 'limp', 'dionne', 'lined', 'lines', 'dinners', 'dinner', 'lisa', 'list', 'listen', 'listened', 'digg', 'listening', 'lit', 'litany', 'difficult', 'differences', 'lived', 'lives', 'died', 'die', 'didn', 'loaded', 'dialing', 'developers', 'locked', 'lofty', 'devastating', 'determines', 'determine', 'longest', 'look', 'destination', 'looking', 'looks', 'despite', 'desperation', 'loss', 'losses', 'desperately', 'lot', 'loud', 'love', 'low', 'desperate', 'despair', 'loyal', 'loyalists', 'luciani', 'lunatic', 'lurking', 'luxury', 'desire', 'design', 'machine', 'machines', 'maddow', 'deserved', 'magazine', 'maggie', 'mail', 'main', 'desecrated', 'mainly', 'mainstay', 'mainstream', 'described', 'des', 'derail', 'departure', 'makes', 'department', 'male', 'maliki', 'deny', 'managed', 'manages', 'denominator', 'denial', 'mao', 'marble', 'dems', 'marched', 'marching', 'margaret', 'margins', 'margot', 'demonstrated', 'marie', 'marilla', 'demons', 'democracy', 'maryland', 'demanding', 'mass', 'masse', 'demand', 'mastered', 'match', 'matching', 'material', 'materials', 'mates', 'dem', 'delicious', 'mattered', 'matthews', 'mature', 'deliberate', 'maybe', 'mayor', 'degradation', 'mclane', 'mcphearson', 'define', 'meadors', 'meaning', 'defending', 'defended', 'meant', 'meanwhile', 'defend', 'meddling', 'defeat', 'median', 'medical', 'medicare', 'medicine', 'meet', 'defang', 'meetings', 'meir', 'deeply', 'members', 'deep', 'memorize', 'deem', 'menendez', 'dedicated', 'mentioned', 'mentioning', 'mentions', 'decry', 'mentors', 'menu', 'decried', 'merkel', 'mess', 'message', 'met', 'meta', 'michael', 'declined', 'declaring', 'michigan', 'mid', 'middle', 'might', 'declared', 'mikulski', 'mild', 'mile', 'mileage', 'declare', 'militarism', 'decisionmaking', 'million', 'decision', 'deciding', 'decided', 'ministership', 'minorities', 'minority', 'decide', 'misadventures', 'misguided', 'mislead', 'misnumbered', 'missouri', 'decadeslong', 'debi', 'mixed', 'debbie', 'mob', 'mobilized', 'model', 'moderate', 'modi', 'mohammad', 'moines', 'debate', 'death', 'momentum', 'monday', 'deah', 'monitor', 'monster', 'month', 'dates', 'moral', 'database', 'morning', 'mortem', 'dark', 'daniele', 'daniel', 'mother', 'move', 'moved', 'movement', 'dangled', 'dangers', 'danger', 'damned', 'dallas', 'czechoslovakia', 'multitasking', 'czech', 'murkowski', 'cycle', 'current', 'culture', 'culinary', 'crystal', 'must', 'muster', 'criticized', 'criticize', 'mysterious', 'criticism', 'nader', 'critical', 'crisscrossing', 'named', 'names', 'nancy', 'narendra', 'narrative', 'narratives', 'crippling', 'criminal', 'crimes', 'nationalism', 'crime', 'nationalistic', 'nationalists', 'nationally', 'cried', 'native', 'crew', 'credited', 'naval', 'navarro', 'navigate', 'credit', 'nazi', 'creative', 'nbc', 'near', 'nearest', 'creation', 'necessarily', 'necessary', 'created', 'needed', 'needs', 'negative', 'negligible', 'crazy', 'cravenly', 'negotiators', 'neighborhoods', 'cracked', 'neither', 'netanyahu', 'coy', 'covert', 'nevada', 'never', 'covers', 'news', 'courtyard', 'court', 'courage', 'next', 'nice', 'niceties', 'nicholas', 'nigger', 'night', 'couple', 'countries', 'counting', 'counterparts', 'nominated', 'nominating', 'count', 'councilwoman', 'couldn', 'nonagenarian', 'nonconfrontational', 'costs', 'nonpartisan', 'cosponsors', 'nonsense', 'nor', 'normal', 'normalize', 'corruption', 'corridor', 'corrected', 'notably', 'notch', 'note', 'cornyn', 'notes', 'corner', 'notice', 'copyright', 'nouri', 'cops', 'now', 'nowhere', 'coordinating', 'nucleus', 'nuland', 'cooperative', 'cooperation', 'cook', 'nuns', 'o', 'oath', 'convoluted', 'obamacare', 'objected', 'conviction', 'occupy', 'oct', 'converted', 'odious', 'conversations', 'off', 'conversation', 'offered', 'office', 'officer', 'controversy', 'controversial', 'controlled', 'contributor', 'often', 'oh', 'ohio', 'oiled', 'okay', 'contributed', 'older', 'contrast', 'on', 'once', 'continues', 'continue', 'ongoing', 'contests', 'contest', 'contentious', 'opened', 'contemplating', 'operating', 'operation', 'contain', 'opinions', 'opponent', 'opponents', 'opportunities', 'opportunity', 'opposed', 'opposes', 'contacted', 'constrain', 'optimistic', 'constituted', 'constitute', 'conspiracy', 'order', 'ordered', 'organization', 'organizational', 'organizations', 'organizer', 'organizers', 'considered', 'original', 'originally', 'orlando', 'orphans', 'consider', 'otherness', 'consensus', 'connection', 'ought', 'congresswoman', 'ours', 'ourselves', 'confront', 'confidential', 'outdone', 'outnumber', 'outraged', 'outside', 'outsiders', 'conference', 'over', 'conduct', 'overarching', 'condition', 'condemned', 'overlook', 'conclusion', 'overseas', 'concessions', 'overstated', 'overwhelmed', 'concerns', 'owner', 'concern', 'package', 'packed', 'computer', 'page', 'comprehensive', 'complex', 'painted', 'completely', 'pamela', 'completed', 'panetta', 'competitive', 'paper', 'compete', 'compared', 'companies', 'parity', 'part', 'participate', 'participative', 'particular', 'particularly', 'community', 'partisan', 'partisans', 'communities', 'commotion', 'commonality', 'committing', 'paserman', 'pass', 'commitment', 'passages', 'commissioner', 'passes', 'passionately', 'commission', 'patch', 'commanded', 'patience', 'patient', 'patients', 'coming', 'paul', 'pave', 'comfortable', 'paying', 'payroll', 'comeback', 'peaceful', 'peddle', 'peeking', 'peers', 'pelosi', 'penalties', 'pennsylvania', 'combating', 'combat', 'per', 'perceived', 'coma', 'com', 'perceptible', 'performance', 'perhaps', 'period', 'permanent', 'permanently', 'column', 'perpetual', 'perpetuation', 'collins', 'personalized', 'colleges', 'peter', 'petty', 'college', 'phase', 'phenomenon', 'philadelphia', 'photos', 'pic', 'pick', 'picked', 'picking', 'collars', 'pictures', 'collapsed', 'pinterest', 'pistol', 'pit', 'pivotal', 'collaborative', 'collaboration', 'cognizant', 'planned', 'planning', 'plans', 'plateau', 'plateaued', 'coalition', 'playbook', 'clutching', 'closing', 'plead', 'please', 'plenty', 'plus', 'plutonium', 'closest', 'pocket', 'closeness', 'pointed', 'pointing', 'closely', 'poisoned', 'closed', 'polarized', 'polarizing', 'police', 'clintons', 'clinch', 'click', 'cleveland', 'politico', 'clear', 'politifact', 'classmates', 'classmate', 'pols', 'pool', 'poor', 'popular', 'popularity', 'classified', 'portion', 'portrait', 'classic', 'class', 'position', 'clash', 'positions', 'positive', 'clam', 'claire', 'posted', 'posting', 'posts', 'postured', 'claiming', 'potentially', 'civilizations', 'civilians', 'cites', 'cited', 'cite', 'prague', 'praised', 'prayed', 'pre', 'circumstances', 'circulated', 'predicted', 'predominates', 'preemptive', 'preemptively', 'pregnant', 'circulate', 'premier', 'premise', 'prepared', 'circle', 'cio', 'preserve', 'presidency', 'cigi', 'chuck', 'presidents', 'christians', 'pretend', 'pretending', 'pretty', 'prevailing', 'prevent', 'christian', 'chowder', 'previously', 'chose', 'primaries', 'chorus', 'choose', 'principled', 'choice', 'print', 'printed', 'chilling', 'privacy', 'chili', 'privately', 'childish', 'privatize', 'privatized', 'child', 'privilege', 'chelsea', 'cheer', 'cheek', 'procedural', 'procedure', 'check', 'produce', 'produced', 'chat', 'charts', 'progress', 'progressive', 'prohibited', 'project', 'projecting', 'charred', 'prominently', 'charismatic', 'promised', 'promises', 'promising', 'promoters', 'promotes', 'promoting', 'promotional', 'pronounced', 'proof', 'charge', 'proper', 'characterized', 'proposal', 'chapel', 'propose', 'chants', 'prosecution', 'prosecutor', 'prospective', 'chanting', 'protected', 'protecting', 'protection', 'protests', 'prototype', 'proud', 'prove', 'proved', 'provide', 'provided', 'provider', 'provides', 'chanted', 'psychic', 'pt', 'chant', 'publicly', 'channel', 'pulled', 'punctuated', 'changes', 'purposes', 'changed', 'push', 'change', 'pushing', 'chances', 'putin', 'qualities', 'chancellor', 'queen', 'quest', 'champ', 'questioned', 'questions', 'quibbling', 'quick', 'chambers', 'quintupled', 'quit', 'chamber', 'race', 'races', 'rachel', 'radar', 'radical', 'radio', 'raft', 'raghead', 'raise', 'raised', 'rallied', 'rallies', 'rally', 'ralph', 'challenger', 'ran', 'random', 'randy', 'challenge', 'ranking', 'ranks', 'rape', 'chairman', 'raping', 'ceremony', 'rarer', 'raritan', 'raspy', 'ceo', 'rather', 'ratified', 'century', 'centrifuge', 'central', 'razan', 'cedar', 'cavuto', 'reached', 'caused', 'react', 'caught', 'read', 'reading', 'ready', 'reagan', 'realclearpolitics', 'caucuses', 'caucus', 'reality', 'realization', 'catholics', 'really', 'reappoint', 'catalyst', 'reasonable', 'case', 'reauthorization', 'rebuild', 'recalling', 'recalls', 'carville', 'received', 'receiving', 'cartwright', 'carrying', 'carry', 'carried', 'recover', 'recruit', 'recruited', 'carpet', 'carolina', 'red', 'reddit', 'reduce', 'reelection', 'referred', 'referring', 'reflected', 'reflection', 'reform', 'refuge', 'refugees', 'refusal', 'careers', 'refuted', 'region', 'regional', 'career', 'registered', 'registration', 'regular', 'regularly', 'cards', 'reimagining', 'reimposed', 'reinforced', 'capture', 'caps', 'relationships', 'relax', 'released', 'relevance', 'relief', 'religion', 'capitulate', 'remain', 'remained', 'capital', 'remains', 'remarked', 'remember', 'remembered', 'remind', 'reminds', 'removal', 'removed', 'reneged', 'renegotiate', 'rent', 'rep', 'repealing', 'replaced', 'report', 'reported', 'reportedly', 'reports', 'reprehensible', 'represent', 'cantwell', 'candidates', 'canceled', 'representing', 'represents', 'reprinted', 'camp', 'republicanism', 'camera', 'requires', 'came', 'calling', 'researched', 'reserve', 'reserved', 'california', 'resignation', 'resisting', 'cable', 'buzzed', 'respected', 'buried', 'respond', 'responded', 'bunker', 'bullying', 'rest', 'bullied', 'restive', 'restraint', 'bulgaria', 'resumes', 'building', 'retire', 'retired', 'retires', 'retooled', 'brushed', 'returned', 'brought', 'broker', 'reveals', 'broadcast', 'revelations', 'brings', 'reversed', 'bringing', 'rice', 'richard', 'richmond', 'rick', 'ricker', 'ride', 'rifle', 'rigged', 'bring', 'righteous', 'briefings', 'rigorously', 'ringing', 'briefing', 'rising', 'bridge', 'risked', 'bribery', 'rivals', 'riyadh', 'breeze', 'roared', 'breeds', 'robbery', 'rocket', 'rodham', 'rods', 'role', 'roles', 'roll', 'breathing', 'ronald', 'breaks', 'rose', 'ross', 'rough', 'roughly', 'rouhani', 'routinely', 'rovers', 'break', 'roy', 'rules', 'brave', 'runner', 'bratton', 'brand', 'rushed', 'russia', 'rutgers', 'ruth', 'ryan', 's', 'branch', 'bragman', 'safe', 'said', 'sake', 'bragged', 'salman', 'boy', 'boston', 'born', 'sand', 'boosting', 'sat', 'satisfied', 'booster', 'boos', 'books', 'save', 'saved', 'saving', 'saw', 'say', 'bomb', 'boldly', 'scales', 'scandal', 'bold', 'scanned', 'scarborough', 'scared', 'scary', 'scattered', 'scenario', 'scene', 'scenes', 'boiler', 'scheduled', 'schindler', 'body', 'schoolyard', 'boat', 'boast', 'scientist', 'score', 'scout', 'scrapped', 'scratched', 'scratches', 'scratching', 'screen', 'screengrabs', 'screenshot', 'screenshots', 'screwed', 'se', 'boardrooms', 'blowing', 'seat', 'blow', 'bloomberg', 'blessings', 'secret', 'blanket', 'blamed', 'securing', 'black', 'bit', 'seek', 'seem', 'seemed', 'seemingly', 'seems', 'seen', 'selected', 'selecting', 'bipartisan', 'self', 'sell', 'selling', 'bind', 'billions', 'billionaire', 'bilingual', 'send', 'sending', 'bigots', 'sens', 'big', 'senses', 'sensing', 'sensitive', 'sent', 'biden', 'separately', 'sept', 'beyond', 'serial', 'series', 'beside', 'seriously', 'serve', 'berniesteachers', 'benjamin', 'serves', 'service', 'services', 'benefits', 'belongs', 'settled', 'setup', 'believing', 'believes', 'sex', 'sexism', 'believed', 'shaddy', 'shaheen', 'shake', 'shall', 'share', 'shared', 'believe', 'shield', 'shielded', 'shift', 'shifted', 'shifting', 'shillman', 'ship', 'shirt', 'shocking', 'shooting', 'shore', 'short', 'beijing', 'behave', 'shouldn', 'shouting', 'shove', 'shoving', 'behalf', 'showed', 'shown', 'shows', 'shrugged', 'shuler', 'shut', 'shutdown', 'begun', 'sides', 'sigh', 'sign', 'signed', 'significantly', 'signs', 'silenced', 'beginning', 'similarly', 'begin', 'simply', 'began', 'sinister', 'befriending', 'site', 'situations', 'beds', 'skews', 'bed', 'skills', 'slam', 'slammed', 'slew', 'slightest', 'slim', 'becoming', 'slipping', 'become', 'slogans', 'slope', 'slowed', 'smart', 'smell', 'beat', 'beamed', 'sniveling', 'snubbed', 'snubs', 'snug', 'battle', 'soccer', 'social', 'basketball', 'sofia', 'based', 'soldiers', 'solo', 'barely', 'bare', 'somebody', 'somehow', 'someone', 'something', 'sometimes', 'somewhere', 'barbara', 'barack', 'soon', 'ban', 'soros', 'sorrow', 'sort', 'sorting', 'sought', 'balloting', 'sound', 'balcony', 'badly', 'south', 'backlogs', 'backers', 'sown', 'sox', 'space', 'spared', 'speak', 'backed', 'speakerryan', 'speakers', 'speaks', 'special', 'back', 'specific', 'specifically', 'specifics', 'spectrum', 'speech', 'speed', 'spells', 'spend', 'b', 'awoke', 'spinelessness', 'spinmeisters', 'spit', 'spoke', 'awkwardly', 'sponsored', 'sponsors', 'awkward', 'spotted', 'spotting', 'spouting', 'spreads', 'spy', 'staffers', 'awesome', 'away', 'awareness', 'stakes', 'aware', 'standard', 'standing', 'standpoint', 'stapled', 'star', 'award', 'avoiding', 'started', 'avoided', 'statement', 'statements', 'avenue', 'staters', 'autocratic', 'statewide', 'status', 'statutory', 'stay', 'stayed', 'authors', 'stays', 'steeping', 'stefano', 'stein', 'steinmeier', 'authorize', 'stepping', 'authority', 'stern', 'authorities', 'authoritatively', 'stock', 'stockbroker', 'stockpile', 'stolen', 'stomped', 'stood', 'stop', 'stopped', 'stops', 'stored', 'austin', 'stories', 'auditorium', 'strange', 'stranger', 'strangers', 'strap', 'strategist', 'audience', 'stratham', 'street', 'streets', 'strength', 'stressed', 'attribute', 'strictly', 'stringent', 'attorney', 'attitude', 'strongly', 'struck', 'struggle', 'struggled', 'attention', 'attending', 'studios', 'attendees', 'stumbleupon', 'stump', 'style', 'styles', 'stymie', 'subject', 'submit', 'subscribe', 'subscribing', 'substance', 'succeeded', 'succeeds', 'attended', 'such', 'sudden', 'attend', 'suffered', 'suggest', 'suggested', 'suggesting', 'summed', 'summer', 'summit', 'sun', 'attempts', 'sundays', 'sunny', 'sunset', 'attempting', 'superluminal', 'attempt', 'attained', 'attacking', 'attacked', 'supportive', 'at', 'supposed', 'supremacism', 'supreme', 'sure', 'assured', 'surgically', 'surprise', 'assume', 'assistant', 'assess', 'survival', 'survive', 'assertive', 'suspect', 'suspects', 'suspend', 'swarthy', 'swear', 'sweep', 'swept', 'assertions', 'swimming', 'swing', 'swings', 'sworn', 'sylvia', 'symbols', 'assaults', 'assassinations', 'systems', 't', 'aspect', 'tackle', 'aside', 'tak', 'artist', 'arrogant', 'takes', 'taking', 'talk', 'talked', 'arrived', 'arrivals', 'tangled', 'tape', 'tapped', 'target', 'targeted', 'targeting', 'taught', 'arrival', 'arranged', 'taxing', 'teach', 'arm', 'argument', 'argued', 'teammates', 'technology', 'aren', 'teenage', 'archive', 'television', 'april', 'telling', 'appropriate', 'approaching', 'temporary', 'ten', 'appointment', 'tendency', 'tenet', 'tennessee', 'tentative', 'tenth', 'appointed', 'terani', 'term', 'terms', 'terrible', 'terrified', 'territory', 'terror', 'terrorism', 'terrorists', 'test', 'applications', 'tex', 'application', 'apple', 'appeaser', 'thank', 'appearing', 'appeared', 'appear', 'appeals', 'theconversation', 'apolitical', 'apartment', 'themes', 'apart', 'anywhere', 'theocratic', 'anything', 'therefore', 'anti', 'thesaurus', 'these', 'anthony', 'another', 'anonymity', 'things', 'anointed', 'third', 'announced', 'anniversary', 'annexed', 'ann', 'thought', 'thousands', 'threat', 'threatens', 'angry', 'angela', 'threw', 'throat', 'through', 'throughout', 'thrown', 'thumbs', 'thundering', 'ancestral', 'thus', 'ticked', 'tied', 'ties', 'ananavarro', 'tiles', 'analysis', 'analyses', 'ana', 'timely', 'amount', 'tingling', 'amongst', 'to', 'amid', 'together', 'told', 'tolerance', 'tomdispatch', 'amendments', 'too', 'took', 'always', 'although', 'torn', 'tossed', 'alt', 'totally', 'touch', 'tough', 'touted', 'toward', 'towards', 'tower', 'already', 'allusion', 'allowed', 'trafficking', 'allow', 'trains', 'trample', 'trampling', 'transferred', 'allegiance', 'transports', 'trapped', 'trash', 'trauma', 'traumatizing', 'traveled', 'travelled', 'allegations', 'treaties', 'tremendous', 'tremendously', 'alive', 'aligned', 'trigger', 'alice', 'trips', 'ali', 'alexandra', 'trouble', 'true', 'truly', 'alex', 'trust', 'alaska', 'alarm', 'al', 'trying', 'tuesday', 'tumblr', 'airport', 'turned', 'turning', 'aiming', 'tv', 'tweet', 'aides', 'twisted', 'twitter', 'ahead', 'typical', 'tyrants', 'agreeing', 'agree', 'uild', 'ago', 'ultimately', 'ultra', 'un', 'agents', 'unapologetic', 'unauthorized', 'unclear', 'uncomfortable', 'under', 'agency', 'against', 'again', 'underneath', 'aftermath', 'understanding', 'understood', 'underway', 'afraid', 'unfortunately', 'unified', 'uniform', 'uniforms', 'unique', 'unison', 'unite', 'afl', 'unity', 'university', 'afghanistan', 'unless', 'unlike', 'unlikely', 'unnoticed', 'affordable', 'affiliation', 'unresolved', 'affiliates', 'unsure', 'unthinkable', 'until', 'unusually', 'advocating', 'advocates', 'upon', 'advocated', 'advance', 'urged', 'ads', 'use', 'used', 'ushered', 'adopting', 'admitting', 'utter', 'admits', 'admission', 'value', 'addresses', 'vast', 'vci', 'addressed', 'verification', 'verify', 'veritable', 'vermont', 'address', 'versus', 'addition', 'vesta', 'adding', 'added', 'veto', 'vets', 'via', 'vice', 'victim', 'add', 'victories', 'victory', 'adamant', 'vietnam', 'view', 'viewed', 'villain', 'villeval', 'violated', 'ad', 'acts', 'violence', 'violent', 'virginia', 'virtually', 'vis', 'acting', 'across', 'visualizations', 'vladimir', 'vocal', 'acr', 'voices', 'volumes', 'voluntary', 'acknowledges', 'acknowledged', 'voters', 'acknowledge', 'achieve', 'vs', 'vt', 'vytt49yvoe', 'accused', 'accurate', 'waited', 'accountability', 'account', 'waived', 'waiving', 'accepted', 'waking', 'walk', 'walker', 'walkerbragman', 'accept', 'walter', 'abut', 'wanted', 'abuses', 'abu', 'wants', 'absurd', 'warfare', 'warned', 'warning', 'wary', 'absolutely', 'abroad', 'wasn', 'waste', 'about', 'abortion', 'watched', 'watching', 'watershed', 'abolishing', 'aboard', 'wcvscg4a5i', 'abject', 'weaknesses', 'abilities', 'abcpolitics', 'abc', 'weathered', 'web', 'aa', '92', '73', '70', '7', 'weiner', 'welcome', 'welcomed', 'welfare', '650', 'went', 'were', 'weren', '5pm', '57', '51', '5', 'whatever', '49', '400', '40', '3pm', '33', '300', '2nd', 'whole', 'wholly', 'whom', 'whopping', 'whose', '27', 'widely', '241', 'wield', '24', 'wikileaks', 'wikipedia', 'will', 'willing', '23', '227', 'wing', 'winning', 'wins', 'winton', 'wire', 'wiretaps', 'wis', 'wisconsin', 'with', '22', 'withdrawal', 'withdrawing', 'withdrawn', 'within', '21wire', 'witness', 'witnessed', 'witnessing', 'wives', '21st', '2117', 'won', '2020', 'wonderful', 'wondering', '2012', 'words', 'wore', '2011', 'worked', '2009', '2006', '2001', '20001', 'worth', '200', 'wouldn', 'wound', '1998', '1996', 'wreck', 'wreckage', 'writ', 'write', '1994', 'writes', 'writing', 'written', '1983', 'wrongly', 'wrote', 'www', 'xenophobia', 'yahoos', '1972', '1971', '197', '1939', 'yelled', '187', 'yet', '17', 'you', '160', '14', 'your', '12pm', 'youtube', 'yusor', '12', 'zadroga', '10th', '106', 'zhou']\n"
          ]
        }
      ]
    },
    {
      "cell_type": "code",
      "source": [
        "def generate_text(input_text, text_length, creativity=3):\n",
        "  word_sequence = input_text.split()\n",
        "  current = 0\n",
        "  for _ in range(text_length):\n",
        "    sub_sequence = \" \".join(tokenizer.tokenize(\" \".join(word_sequence).lower())[current:current+n_words])\n",
        "    try:\n",
        "      choice = unique_tokens[random.choice(predict_next_word(sub_sequence, creativity))]\n",
        "    except:\n",
        "      choice = random.choice(unique_tokens)\n",
        "    word_sequence.append(choice)\n",
        "    current += 1\n",
        "  return \" \".join(word_sequence)"
      ],
      "metadata": {
        "id": "SD7851zpeqtC"
      },
      "execution_count": null,
      "outputs": []
    },
    {
      "cell_type": "code",
      "source": [
        "generate_text(\"The president will now\", 100, 5 )"
      ],
      "metadata": {
        "colab": {
          "base_uri": "https://localhost:8080/",
          "height": 1000
        },
        "id": "fGQ6NDLLfQgw",
        "outputId": "35391431-9230-4b56-c239-80dad9c6c2f3"
      },
      "execution_count": null,
      "outputs": [
        {
          "output_type": "stream",
          "name": "stdout",
          "text": [
            "\u001b[1m1/1\u001b[0m \u001b[32m━━━━━━━━━━━━━━━━━━━━\u001b[0m\u001b[37m\u001b[0m \u001b[1m0s\u001b[0m 35ms/step\n",
            "\u001b[1m1/1\u001b[0m \u001b[32m━━━━━━━━━━━━━━━━━━━━\u001b[0m\u001b[37m\u001b[0m \u001b[1m0s\u001b[0m 34ms/step\n",
            "\u001b[1m1/1\u001b[0m \u001b[32m━━━━━━━━━━━━━━━━━━━━\u001b[0m\u001b[37m\u001b[0m \u001b[1m0s\u001b[0m 38ms/step\n",
            "\u001b[1m1/1\u001b[0m \u001b[32m━━━━━━━━━━━━━━━━━━━━\u001b[0m\u001b[37m\u001b[0m \u001b[1m0s\u001b[0m 34ms/step\n",
            "\u001b[1m1/1\u001b[0m \u001b[32m━━━━━━━━━━━━━━━━━━━━\u001b[0m\u001b[37m\u001b[0m \u001b[1m0s\u001b[0m 42ms/step\n",
            "\u001b[1m1/1\u001b[0m \u001b[32m━━━━━━━━━━━━━━━━━━━━\u001b[0m\u001b[37m\u001b[0m \u001b[1m0s\u001b[0m 34ms/step\n",
            "\u001b[1m1/1\u001b[0m \u001b[32m━━━━━━━━━━━━━━━━━━━━\u001b[0m\u001b[37m\u001b[0m \u001b[1m0s\u001b[0m 35ms/step\n",
            "\u001b[1m1/1\u001b[0m \u001b[32m━━━━━━━━━━━━━━━━━━━━\u001b[0m\u001b[37m\u001b[0m \u001b[1m0s\u001b[0m 34ms/step\n",
            "\u001b[1m1/1\u001b[0m \u001b[32m━━━━━━━━━━━━━━━━━━━━\u001b[0m\u001b[37m\u001b[0m \u001b[1m0s\u001b[0m 36ms/step\n",
            "\u001b[1m1/1\u001b[0m \u001b[32m━━━━━━━━━━━━━━━━━━━━\u001b[0m\u001b[37m\u001b[0m \u001b[1m0s\u001b[0m 32ms/step\n",
            "\u001b[1m1/1\u001b[0m \u001b[32m━━━━━━━━━━━━━━━━━━━━\u001b[0m\u001b[37m\u001b[0m \u001b[1m0s\u001b[0m 32ms/step\n",
            "\u001b[1m1/1\u001b[0m \u001b[32m━━━━━━━━━━━━━━━━━━━━\u001b[0m\u001b[37m\u001b[0m \u001b[1m0s\u001b[0m 38ms/step\n",
            "\u001b[1m1/1\u001b[0m \u001b[32m━━━━━━━━━━━━━━━━━━━━\u001b[0m\u001b[37m\u001b[0m \u001b[1m0s\u001b[0m 31ms/step\n",
            "\u001b[1m1/1\u001b[0m \u001b[32m━━━━━━━━━━━━━━━━━━━━\u001b[0m\u001b[37m\u001b[0m \u001b[1m0s\u001b[0m 30ms/step\n",
            "\u001b[1m1/1\u001b[0m \u001b[32m━━━━━━━━━━━━━━━━━━━━\u001b[0m\u001b[37m\u001b[0m \u001b[1m0s\u001b[0m 31ms/step\n",
            "\u001b[1m1/1\u001b[0m \u001b[32m━━━━━━━━━━━━━━━━━━━━\u001b[0m\u001b[37m\u001b[0m \u001b[1m0s\u001b[0m 35ms/step\n",
            "\u001b[1m1/1\u001b[0m \u001b[32m━━━━━━━━━━━━━━━━━━━━\u001b[0m\u001b[37m\u001b[0m \u001b[1m0s\u001b[0m 39ms/step\n",
            "\u001b[1m1/1\u001b[0m \u001b[32m━━━━━━━━━━━━━━━━━━━━\u001b[0m\u001b[37m\u001b[0m \u001b[1m0s\u001b[0m 37ms/step\n",
            "\u001b[1m1/1\u001b[0m \u001b[32m━━━━━━━━━━━━━━━━━━━━\u001b[0m\u001b[37m\u001b[0m \u001b[1m0s\u001b[0m 38ms/step\n",
            "\u001b[1m1/1\u001b[0m \u001b[32m━━━━━━━━━━━━━━━━━━━━\u001b[0m\u001b[37m\u001b[0m \u001b[1m0s\u001b[0m 57ms/step\n",
            "\u001b[1m1/1\u001b[0m \u001b[32m━━━━━━━━━━━━━━━━━━━━\u001b[0m\u001b[37m\u001b[0m \u001b[1m0s\u001b[0m 36ms/step\n",
            "\u001b[1m1/1\u001b[0m \u001b[32m━━━━━━━━━━━━━━━━━━━━\u001b[0m\u001b[37m\u001b[0m \u001b[1m0s\u001b[0m 43ms/step\n",
            "\u001b[1m1/1\u001b[0m \u001b[32m━━━━━━━━━━━━━━━━━━━━\u001b[0m\u001b[37m\u001b[0m \u001b[1m0s\u001b[0m 34ms/step\n",
            "\u001b[1m1/1\u001b[0m \u001b[32m━━━━━━━━━━━━━━━━━━━━\u001b[0m\u001b[37m\u001b[0m \u001b[1m0s\u001b[0m 33ms/step\n",
            "\u001b[1m1/1\u001b[0m \u001b[32m━━━━━━━━━━━━━━━━━━━━\u001b[0m\u001b[37m\u001b[0m \u001b[1m0s\u001b[0m 31ms/step\n",
            "\u001b[1m1/1\u001b[0m \u001b[32m━━━━━━━━━━━━━━━━━━━━\u001b[0m\u001b[37m\u001b[0m \u001b[1m0s\u001b[0m 39ms/step\n",
            "\u001b[1m1/1\u001b[0m \u001b[32m━━━━━━━━━━━━━━━━━━━━\u001b[0m\u001b[37m\u001b[0m \u001b[1m0s\u001b[0m 55ms/step\n",
            "\u001b[1m1/1\u001b[0m \u001b[32m━━━━━━━━━━━━━━━━━━━━\u001b[0m\u001b[37m\u001b[0m \u001b[1m0s\u001b[0m 62ms/step\n",
            "\u001b[1m1/1\u001b[0m \u001b[32m━━━━━━━━━━━━━━━━━━━━\u001b[0m\u001b[37m\u001b[0m \u001b[1m0s\u001b[0m 48ms/step\n",
            "\u001b[1m1/1\u001b[0m \u001b[32m━━━━━━━━━━━━━━━━━━━━\u001b[0m\u001b[37m\u001b[0m \u001b[1m0s\u001b[0m 47ms/step\n",
            "\u001b[1m1/1\u001b[0m \u001b[32m━━━━━━━━━━━━━━━━━━━━\u001b[0m\u001b[37m\u001b[0m \u001b[1m0s\u001b[0m 51ms/step\n",
            "\u001b[1m1/1\u001b[0m \u001b[32m━━━━━━━━━━━━━━━━━━━━\u001b[0m\u001b[37m\u001b[0m \u001b[1m0s\u001b[0m 48ms/step\n",
            "\u001b[1m1/1\u001b[0m \u001b[32m━━━━━━━━━━━━━━━━━━━━\u001b[0m\u001b[37m\u001b[0m \u001b[1m0s\u001b[0m 51ms/step\n",
            "\u001b[1m1/1\u001b[0m \u001b[32m━━━━━━━━━━━━━━━━━━━━\u001b[0m\u001b[37m\u001b[0m \u001b[1m0s\u001b[0m 54ms/step\n",
            "\u001b[1m1/1\u001b[0m \u001b[32m━━━━━━━━━━━━━━━━━━━━\u001b[0m\u001b[37m\u001b[0m \u001b[1m0s\u001b[0m 55ms/step\n",
            "\u001b[1m1/1\u001b[0m \u001b[32m━━━━━━━━━━━━━━━━━━━━\u001b[0m\u001b[37m\u001b[0m \u001b[1m0s\u001b[0m 49ms/step\n",
            "\u001b[1m1/1\u001b[0m \u001b[32m━━━━━━━━━━━━━━━━━━━━\u001b[0m\u001b[37m\u001b[0m \u001b[1m0s\u001b[0m 46ms/step\n",
            "\u001b[1m1/1\u001b[0m \u001b[32m━━━━━━━━━━━━━━━━━━━━\u001b[0m\u001b[37m\u001b[0m \u001b[1m0s\u001b[0m 49ms/step\n",
            "\u001b[1m1/1\u001b[0m \u001b[32m━━━━━━━━━━━━━━━━━━━━\u001b[0m\u001b[37m\u001b[0m \u001b[1m0s\u001b[0m 66ms/step\n",
            "\u001b[1m1/1\u001b[0m \u001b[32m━━━━━━━━━━━━━━━━━━━━\u001b[0m\u001b[37m\u001b[0m \u001b[1m0s\u001b[0m 51ms/step\n",
            "\u001b[1m1/1\u001b[0m \u001b[32m━━━━━━━━━━━━━━━━━━━━\u001b[0m\u001b[37m\u001b[0m \u001b[1m0s\u001b[0m 70ms/step\n",
            "\u001b[1m1/1\u001b[0m \u001b[32m━━━━━━━━━━━━━━━━━━━━\u001b[0m\u001b[37m\u001b[0m \u001b[1m0s\u001b[0m 49ms/step\n",
            "\u001b[1m1/1\u001b[0m \u001b[32m━━━━━━━━━━━━━━━━━━━━\u001b[0m\u001b[37m\u001b[0m \u001b[1m0s\u001b[0m 49ms/step\n",
            "\u001b[1m1/1\u001b[0m \u001b[32m━━━━━━━━━━━━━━━━━━━━\u001b[0m\u001b[37m\u001b[0m \u001b[1m0s\u001b[0m 48ms/step\n",
            "\u001b[1m1/1\u001b[0m \u001b[32m━━━━━━━━━━━━━━━━━━━━\u001b[0m\u001b[37m\u001b[0m \u001b[1m0s\u001b[0m 57ms/step\n",
            "\u001b[1m1/1\u001b[0m \u001b[32m━━━━━━━━━━━━━━━━━━━━\u001b[0m\u001b[37m\u001b[0m \u001b[1m0s\u001b[0m 48ms/step\n",
            "\u001b[1m1/1\u001b[0m \u001b[32m━━━━━━━━━━━━━━━━━━━━\u001b[0m\u001b[37m\u001b[0m \u001b[1m0s\u001b[0m 50ms/step\n",
            "\u001b[1m1/1\u001b[0m \u001b[32m━━━━━━━━━━━━━━━━━━━━\u001b[0m\u001b[37m\u001b[0m \u001b[1m0s\u001b[0m 35ms/step\n",
            "\u001b[1m1/1\u001b[0m \u001b[32m━━━━━━━━━━━━━━━━━━━━\u001b[0m\u001b[37m\u001b[0m \u001b[1m0s\u001b[0m 31ms/step\n",
            "\u001b[1m1/1\u001b[0m \u001b[32m━━━━━━━━━━━━━━━━━━━━\u001b[0m\u001b[37m\u001b[0m \u001b[1m0s\u001b[0m 32ms/step\n",
            "\u001b[1m1/1\u001b[0m \u001b[32m━━━━━━━━━━━━━━━━━━━━\u001b[0m\u001b[37m\u001b[0m \u001b[1m0s\u001b[0m 34ms/step\n",
            "\u001b[1m1/1\u001b[0m \u001b[32m━━━━━━━━━━━━━━━━━━━━\u001b[0m\u001b[37m\u001b[0m \u001b[1m0s\u001b[0m 33ms/step\n",
            "\u001b[1m1/1\u001b[0m \u001b[32m━━━━━━━━━━━━━━━━━━━━\u001b[0m\u001b[37m\u001b[0m \u001b[1m0s\u001b[0m 40ms/step\n",
            "\u001b[1m1/1\u001b[0m \u001b[32m━━━━━━━━━━━━━━━━━━━━\u001b[0m\u001b[37m\u001b[0m \u001b[1m0s\u001b[0m 32ms/step\n",
            "\u001b[1m1/1\u001b[0m \u001b[32m━━━━━━━━━━━━━━━━━━━━\u001b[0m\u001b[37m\u001b[0m \u001b[1m0s\u001b[0m 38ms/step\n",
            "\u001b[1m1/1\u001b[0m \u001b[32m━━━━━━━━━━━━━━━━━━━━\u001b[0m\u001b[37m\u001b[0m \u001b[1m0s\u001b[0m 35ms/step\n",
            "\u001b[1m1/1\u001b[0m \u001b[32m━━━━━━━━━━━━━━━━━━━━\u001b[0m\u001b[37m\u001b[0m \u001b[1m0s\u001b[0m 31ms/step\n",
            "\u001b[1m1/1\u001b[0m \u001b[32m━━━━━━━━━━━━━━━━━━━━\u001b[0m\u001b[37m\u001b[0m \u001b[1m0s\u001b[0m 33ms/step\n",
            "\u001b[1m1/1\u001b[0m \u001b[32m━━━━━━━━━━━━━━━━━━━━\u001b[0m\u001b[37m\u001b[0m \u001b[1m0s\u001b[0m 31ms/step\n",
            "\u001b[1m1/1\u001b[0m \u001b[32m━━━━━━━━━━━━━━━━━━━━\u001b[0m\u001b[37m\u001b[0m \u001b[1m0s\u001b[0m 31ms/step\n",
            "\u001b[1m1/1\u001b[0m \u001b[32m━━━━━━━━━━━━━━━━━━━━\u001b[0m\u001b[37m\u001b[0m \u001b[1m0s\u001b[0m 32ms/step\n",
            "\u001b[1m1/1\u001b[0m \u001b[32m━━━━━━━━━━━━━━━━━━━━\u001b[0m\u001b[37m\u001b[0m \u001b[1m0s\u001b[0m 31ms/step\n",
            "\u001b[1m1/1\u001b[0m \u001b[32m━━━━━━━━━━━━━━━━━━━━\u001b[0m\u001b[37m\u001b[0m \u001b[1m0s\u001b[0m 39ms/step\n",
            "\u001b[1m1/1\u001b[0m \u001b[32m━━━━━━━━━━━━━━━━━━━━\u001b[0m\u001b[37m\u001b[0m \u001b[1m0s\u001b[0m 43ms/step\n",
            "\u001b[1m1/1\u001b[0m \u001b[32m━━━━━━━━━━━━━━━━━━━━\u001b[0m\u001b[37m\u001b[0m \u001b[1m0s\u001b[0m 33ms/step\n",
            "\u001b[1m1/1\u001b[0m \u001b[32m━━━━━━━━━━━━━━━━━━━━\u001b[0m\u001b[37m\u001b[0m \u001b[1m0s\u001b[0m 35ms/step\n",
            "\u001b[1m1/1\u001b[0m \u001b[32m━━━━━━━━━━━━━━━━━━━━\u001b[0m\u001b[37m\u001b[0m \u001b[1m0s\u001b[0m 34ms/step\n",
            "\u001b[1m1/1\u001b[0m \u001b[32m━━━━━━━━━━━━━━━━━━━━\u001b[0m\u001b[37m\u001b[0m \u001b[1m0s\u001b[0m 33ms/step\n",
            "\u001b[1m1/1\u001b[0m \u001b[32m━━━━━━━━━━━━━━━━━━━━\u001b[0m\u001b[37m\u001b[0m \u001b[1m0s\u001b[0m 34ms/step\n",
            "\u001b[1m1/1\u001b[0m \u001b[32m━━━━━━━━━━━━━━━━━━━━\u001b[0m\u001b[37m\u001b[0m \u001b[1m0s\u001b[0m 30ms/step\n",
            "\u001b[1m1/1\u001b[0m \u001b[32m━━━━━━━━━━━━━━━━━━━━\u001b[0m\u001b[37m\u001b[0m \u001b[1m0s\u001b[0m 31ms/step\n",
            "\u001b[1m1/1\u001b[0m \u001b[32m━━━━━━━━━━━━━━━━━━━━\u001b[0m\u001b[37m\u001b[0m \u001b[1m0s\u001b[0m 32ms/step\n",
            "\u001b[1m1/1\u001b[0m \u001b[32m━━━━━━━━━━━━━━━━━━━━\u001b[0m\u001b[37m\u001b[0m \u001b[1m0s\u001b[0m 39ms/step\n",
            "\u001b[1m1/1\u001b[0m \u001b[32m━━━━━━━━━━━━━━━━━━━━\u001b[0m\u001b[37m\u001b[0m \u001b[1m0s\u001b[0m 40ms/step\n",
            "\u001b[1m1/1\u001b[0m \u001b[32m━━━━━━━━━━━━━━━━━━━━\u001b[0m\u001b[37m\u001b[0m \u001b[1m0s\u001b[0m 36ms/step\n",
            "\u001b[1m1/1\u001b[0m \u001b[32m━━━━━━━━━━━━━━━━━━━━\u001b[0m\u001b[37m\u001b[0m \u001b[1m0s\u001b[0m 43ms/step\n",
            "\u001b[1m1/1\u001b[0m \u001b[32m━━━━━━━━━━━━━━━━━━━━\u001b[0m\u001b[37m\u001b[0m \u001b[1m0s\u001b[0m 34ms/step\n",
            "\u001b[1m1/1\u001b[0m \u001b[32m━━━━━━━━━━━━━━━━━━━━\u001b[0m\u001b[37m\u001b[0m \u001b[1m0s\u001b[0m 34ms/step\n",
            "\u001b[1m1/1\u001b[0m \u001b[32m━━━━━━━━━━━━━━━━━━━━\u001b[0m\u001b[37m\u001b[0m \u001b[1m0s\u001b[0m 34ms/step\n",
            "\u001b[1m1/1\u001b[0m \u001b[32m━━━━━━━━━━━━━━━━━━━━\u001b[0m\u001b[37m\u001b[0m \u001b[1m0s\u001b[0m 40ms/step\n",
            "\u001b[1m1/1\u001b[0m \u001b[32m━━━━━━━━━━━━━━━━━━━━\u001b[0m\u001b[37m\u001b[0m \u001b[1m0s\u001b[0m 33ms/step\n",
            "\u001b[1m1/1\u001b[0m \u001b[32m━━━━━━━━━━━━━━━━━━━━\u001b[0m\u001b[37m\u001b[0m \u001b[1m0s\u001b[0m 34ms/step\n",
            "\u001b[1m1/1\u001b[0m \u001b[32m━━━━━━━━━━━━━━━━━━━━\u001b[0m\u001b[37m\u001b[0m \u001b[1m0s\u001b[0m 33ms/step\n",
            "\u001b[1m1/1\u001b[0m \u001b[32m━━━━━━━━━━━━━━━━━━━━\u001b[0m\u001b[37m\u001b[0m \u001b[1m0s\u001b[0m 31ms/step\n",
            "\u001b[1m1/1\u001b[0m \u001b[32m━━━━━━━━━━━━━━━━━━━━\u001b[0m\u001b[37m\u001b[0m \u001b[1m0s\u001b[0m 39ms/step\n",
            "\u001b[1m1/1\u001b[0m \u001b[32m━━━━━━━━━━━━━━━━━━━━\u001b[0m\u001b[37m\u001b[0m \u001b[1m0s\u001b[0m 30ms/step\n",
            "\u001b[1m1/1\u001b[0m \u001b[32m━━━━━━━━━━━━━━━━━━━━\u001b[0m\u001b[37m\u001b[0m \u001b[1m0s\u001b[0m 31ms/step\n",
            "\u001b[1m1/1\u001b[0m \u001b[32m━━━━━━━━━━━━━━━━━━━━\u001b[0m\u001b[37m\u001b[0m \u001b[1m0s\u001b[0m 37ms/step\n",
            "\u001b[1m1/1\u001b[0m \u001b[32m━━━━━━━━━━━━━━━━━━━━\u001b[0m\u001b[37m\u001b[0m \u001b[1m0s\u001b[0m 34ms/step\n",
            "\u001b[1m1/1\u001b[0m \u001b[32m━━━━━━━━━━━━━━━━━━━━\u001b[0m\u001b[37m\u001b[0m \u001b[1m0s\u001b[0m 36ms/step\n",
            "\u001b[1m1/1\u001b[0m \u001b[32m━━━━━━━━━━━━━━━━━━━━\u001b[0m\u001b[37m\u001b[0m \u001b[1m0s\u001b[0m 39ms/step\n",
            "\u001b[1m1/1\u001b[0m \u001b[32m━━━━━━━━━━━━━━━━━━━━\u001b[0m\u001b[37m\u001b[0m \u001b[1m0s\u001b[0m 31ms/step\n",
            "\u001b[1m1/1\u001b[0m \u001b[32m━━━━━━━━━━━━━━━━━━━━\u001b[0m\u001b[37m\u001b[0m \u001b[1m0s\u001b[0m 32ms/step\n",
            "\u001b[1m1/1\u001b[0m \u001b[32m━━━━━━━━━━━━━━━━━━━━\u001b[0m\u001b[37m\u001b[0m \u001b[1m0s\u001b[0m 33ms/step\n",
            "\u001b[1m1/1\u001b[0m \u001b[32m━━━━━━━━━━━━━━━━━━━━\u001b[0m\u001b[37m\u001b[0m \u001b[1m0s\u001b[0m 31ms/step\n",
            "\u001b[1m1/1\u001b[0m \u001b[32m━━━━━━━━━━━━━━━━━━━━\u001b[0m\u001b[37m\u001b[0m \u001b[1m0s\u001b[0m 34ms/step\n",
            "\u001b[1m1/1\u001b[0m \u001b[32m━━━━━━━━━━━━━━━━━━━━\u001b[0m\u001b[37m\u001b[0m \u001b[1m0s\u001b[0m 30ms/step\n",
            "\u001b[1m1/1\u001b[0m \u001b[32m━━━━━━━━━━━━━━━━━━━━\u001b[0m\u001b[37m\u001b[0m \u001b[1m0s\u001b[0m 32ms/step\n",
            "\u001b[1m1/1\u001b[0m \u001b[32m━━━━━━━━━━━━━━━━━━━━\u001b[0m\u001b[37m\u001b[0m \u001b[1m0s\u001b[0m 37ms/step\n",
            "\u001b[1m1/1\u001b[0m \u001b[32m━━━━━━━━━━━━━━━━━━━━\u001b[0m\u001b[37m\u001b[0m \u001b[1m0s\u001b[0m 35ms/step\n"
          ]
        },
        {
          "output_type": "execute_result",
          "data": {
            "text/plain": [
              "'The president will now value representatives fundamentally artist names country california un updates developers pursuit recruited troops mindedness charges fest saved reflected ways ralph trash advantage farm die perceived fear denial site each reprehensible road trafficking decisionmaking unity skews spectrum ready path feehery w overlook energize commitment period comeback swers clam count effect services rise compromise indeed plead has nuns youtube charting assaults herself very repealing engine threshold anthony meaning leading acknowledges defending police protect among raghead authorities rate gerster lie confront ideological pride world kaydeeking hand british thing to pushed allegiance palatable parties spectrum matching credited governors back woman voice save convention schoolyard'"
            ],
            "application/vnd.google.colaboratory.intrinsic+json": {
              "type": "string"
            }
          },
          "metadata": {},
          "execution_count": 35
        }
      ]
    }
  ]
}